{
 "cells": [
  {
   "cell_type": "markdown",
   "metadata": {},
   "source": [
    "# 楕円曲線上の点に関するクラス\n",
    "\n",
    "ビットコインのブロックチェーンでは，$y^2 = x^3 + 5x + 7$が使用されているため，\n",
    "<br>a=5, b=7をデフォルト値として設定する．\n",
    "\n",
    "また，``print()``によって定義時に設定した座標を示す．"
   ]
  },
  {
   "cell_type": "code",
   "execution_count": null,
   "metadata": {},
   "outputs": [],
   "source": [
    "class Point:\n",
    "  def __init__(self, x, y, a=5, b=7):\n",
    "    self.x = x\n",
    "    self.y = y\n",
    "    self.a = a\n",
    "    self.b = b\n",
    "\n",
    "    if(self.y**2 != self.x**3 + self.a*self.x + self.b):\n",
    "      raise ValueError(\"({}, {}) doesn't exist on the curve\".format(self.x, self.y))\n",
    "\n",
    "  def __repr__(self):\n",
    "    return \"({}, {}) exist on the curve\".format(self.x, self.y)\n",
    "\n",
    "  def __eq__(self, other):\n",
    "    return self.x == other.x & self.y == other.y & self.a == other.a & self.b == other.b\n",
    "\n",
    "  def __ne__(self, other):\n",
    "    return self.x != other.x & self.y != other.y & self.a != other.a & self.b != other.b"
   ]
  },
  {
   "cell_type": "markdown",
   "metadata": {},
   "source": [
    "# 練習問題1\n",
    "\n",
    "$y^2 = x^3 + 5x + 7$の曲線状の点は以下のどれか．\n",
    "\n",
    "(2, 4), (-1, -1), (18, 77), (5, 7)"
   ]
  },
  {
   "cell_type": "code",
   "execution_count": 12,
   "metadata": {},
   "outputs": [
    {
     "name": "stdout",
     "output_type": "stream",
     "text": [
      "(2, 4) doesn't exist on the curve\n",
      "(-1, -1) exist on the curve\n",
      "(18, 77) exist on the curve\n",
      "(5, 7) doesn't exist on the curve\n"
     ]
    }
   ],
   "source": [
    "point = [(2, 4), (-1, -1), (18, 77), (5, 7)]\n",
    "\n",
    "for (i, j) in point:\n",
    "  try:\n",
    "    p1 = Point(i, j)\n",
    "    print(p1)\n",
    "  except ValueError as e:\n",
    "    print(e)"
   ]
  },
  {
   "cell_type": "code",
   "execution_count": null,
   "metadata": {},
   "outputs": [],
   "source": []
  }
 ],
 "metadata": {
  "interpreter": {
   "hash": "ce4da746948d1e83a473e6100c600e8a2ecc13d7e6daa1554d2b615920a5b3a0"
  },
  "kernelspec": {
   "display_name": "Python 3.7.9 64-bit ('3.7.9')",
   "language": "python",
   "name": "python3"
  },
  "language_info": {
   "codemirror_mode": {
    "name": "ipython",
    "version": 3
   },
   "file_extension": ".py",
   "mimetype": "text/x-python",
   "name": "python",
   "nbconvert_exporter": "python",
   "pygments_lexer": "ipython3",
   "version": "3.7.9"
  },
  "orig_nbformat": 4
 },
 "nbformat": 4,
 "nbformat_minor": 2
}
