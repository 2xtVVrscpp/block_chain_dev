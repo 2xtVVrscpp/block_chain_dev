{
 "cells": [
  {
   "cell_type": "code",
   "execution_count": 7,
   "metadata": {},
   "outputs": [],
   "source": [
    "import numpy as np"
   ]
  },
  {
   "cell_type": "code",
   "execution_count": 22,
   "metadata": {},
   "outputs": [],
   "source": [
    "class modulo_arithmetic:\n",
    "  def __init__(self, num, order):\n",
    "    self.order = order\n",
    "    self.num = num % self.order\n",
    "\n",
    "  def __repr__(self):\n",
    "    return \"{} mod {}\".format(self.num, self.order)\n",
    "  \n",
    "  def __eq__(self, modulo):\n",
    "    if modulo is None:\n",
    "      return False\n",
    "    return self.num == modulo.num and self.order == modulo.order\n",
    "\n",
    "  def __add__(self, modulo):\n",
    "    if self.order == modulo.order:\n",
    "      num = (self.num + modulo.num) % self.order\n",
    "      return self.__class__(num, self.order)\n",
    "    else:\n",
    "      raise TypeError(\"different order\")\n",
    "\n",
    "  def __sub__(self, modulo):\n",
    "    if self.order == modulo.order:\n",
    "      num = (self.num - modulo.num) % self.order\n",
    "      return self.__class__(num, self.order)\n",
    "    else:\n",
    "      raise TypeError(\"different order\")\n",
    "  \n",
    "  def __mul__(self, modulo):\n",
    "    if self.order == modulo.order:\n",
    "      num = (self.num * modulo.num) % self.order\n",
    "      return self.__class__(num, self.order)\n",
    "    else:\n",
    "      raise TypeError(\"different order\")\n",
    "\n",
    "  def __truediv__(self, modulo):\n",
    "    if self.order == modulo.order:\n",
    "      # 除算を乗算に変換する工程\n",
    "      modulo = modulo.pow(-1)\n",
    "      return self*modulo\n",
    "    else:\n",
    "      raise TypeError(\"different order\")\n",
    "  \n",
    "  def pow(self, exponent):\n",
    "    n = exponent % (self.order-1)\n",
    "    num = pow(self.num, n, self.order)\n",
    "    return self.__class__(num, self.order)\n"
   ]
  },
  {
   "cell_type": "code",
   "execution_count": 23,
   "metadata": {},
   "outputs": [
    {
     "name": "stdout",
     "output_type": "stream",
     "text": [
      "val1:  9 mod 19\n",
      "val2:  17 mod 19\n"
     ]
    }
   ],
   "source": [
    "val1 = modulo_arithmetic(11, 19)\n",
    "val2 = modulo_arithmetic(17, 19)\n",
    "val1 = val1 + val2\n",
    "\n",
    "print(\"val1: \", val1)\n",
    "print(\"val2: \", val2)"
   ]
  },
  {
   "cell_type": "code",
   "execution_count": 24,
   "metadata": {},
   "outputs": [
    {
     "name": "stdout",
     "output_type": "stream",
     "text": [
      "val1:  13 mod 19\n",
      "val2:  17 mod 19\n"
     ]
    }
   ],
   "source": [
    "val1 = modulo_arithmetic(11, 19)\n",
    "val2 = modulo_arithmetic(17, 19)\n",
    "val1 = val1 - val2\n",
    "\n",
    "print(\"val1: \", val1)\n",
    "print(\"val2: \", val2)"
   ]
  },
  {
   "cell_type": "code",
   "execution_count": 25,
   "metadata": {},
   "outputs": [
    {
     "name": "stdout",
     "output_type": "stream",
     "text": [
      "True\n",
      "False\n"
     ]
    }
   ],
   "source": [
    "print(val2==val2)\n",
    "print(val1==val2)"
   ]
  },
  {
   "cell_type": "code",
   "execution_count": 26,
   "metadata": {},
   "outputs": [
    {
     "name": "stdout",
     "output_type": "stream",
     "text": [
      "val1:  14 mod 19\n",
      "val2:  3 mod 19\n"
     ]
    }
   ],
   "source": [
    "val1 = modulo_arithmetic(11, 19)\n",
    "val2 = modulo_arithmetic(3, 19)\n",
    "val1 = val1 * val2\n",
    "\n",
    "print(\"val1: \", val1)\n",
    "print(\"val2: \", val2)"
   ]
  },
  {
   "cell_type": "markdown",
   "metadata": {},
   "source": [
    "# 除算\n",
    "除算だけ特殊です．\n",
    "\n",
    "下の例だと\n",
    "\n",
    "``(3/7)%19 = a``\n",
    "\n",
    "の解aは\n",
    "\n",
    "``(7*a)%19 = 3``\n",
    "\n",
    "を満たすものとなる．\n",
    "これを自力で算出したものが2個下のセルである．\n",
    "<br>これを毎回行うと計算コストがバカにならないので，フェルマーの偉大な功績を使いましょう．"
   ]
  },
  {
   "cell_type": "code",
   "execution_count": 35,
   "metadata": {},
   "outputs": [
    {
     "name": "stdout",
     "output_type": "stream",
     "text": [
      "val1:  14 mod 19\n",
      "val2:  7 mod 19\n"
     ]
    }
   ],
   "source": [
    "val1 = modulo_arithmetic(3, 19)\n",
    "val2 = modulo_arithmetic(7, 19)\n",
    "val1 = val1 / val2\n",
    "\n",
    "print(\"val1: \", val1)\n",
    "print(\"val2: \", val2)"
   ]
  },
  {
   "cell_type": "code",
   "execution_count": 38,
   "metadata": {},
   "outputs": [
    {
     "name": "stdout",
     "output_type": "stream",
     "text": [
      "7*i  7*i%19\n",
      "0  0\n",
      "7  7\n",
      "14  14\n",
      "21  2\n",
      "28  9\n",
      "35  16\n",
      "42  4\n",
      "49  11\n",
      "56  18\n",
      "63  6\n",
      "70  13\n",
      "77  1\n",
      "84  8\n",
      "91  15\n",
      "98  3\n"
     ]
    }
   ],
   "source": [
    "print(\"7*i  7*i%19\")\n",
    "for i in range(15):\n",
    "  print(\"{}  {}\".format(7*i, 7*i%19))"
   ]
  },
  {
   "cell_type": "markdown",
   "metadata": {},
   "source": [
    "# 練習問題5\n",
    "k=1, 3, 7, 13, 18の時の$F_{19}$上で以下の集合を求める．\n",
    "\n",
    "$\\{k \\cdot 0, k \\cdot 1, k \\cdot 2, k \\cdot 3, ..., k \\cdot 18\\}$\n",
    "\n",
    "\n",
    "ここで重要なことは位数とkの関係である．\n",
    "1. 位数とkは互いにその場合，計算後の集合の位数は``同じ``\n",
    "2. 位数がkの約数の場合，計算後の集合の位数は位数は``同じ``であるが，``要素は全て0``になる\n",
    "3. kが位数の約数の場合，計算後の集合の位数は``位数/k``になる"
   ]
  },
  {
   "cell_type": "code",
   "execution_count": 15,
   "metadata": {},
   "outputs": [
    {
     "name": "stdout",
     "output_type": "stream",
     "text": [
      "p= 1 :  [ 0  1  2  3  4  5  6  7  8  9 10 11 12 13 14 15 16 17 18]\n",
      "p= 1 (order):  [ 0  1  2  3  4  5  6  7  8  9 10 11 12 13 14 15 16 17 18]\n",
      "p= 1 (order):  [ 0  1  2  3  4  5  6  7  8  9 10 11 12 13 14 15 16 17 18]\n",
      "\n",
      "p= 3 :  [ 0  3  6  9 12 15 18 21 24 27 30 33 36 39 42 45 48 51 54]\n",
      "p= 3 (order):  [ 0  3  6  9 12 15 18  2  5  8 11 14 17  1  4  7 10 13 16]\n",
      "p= 3 (order):  [ 0  1  2  3  4  5  6  7  8  9 10 11 12 13 14 15 16 17 18]\n",
      "\n",
      "p= 7 :  [  0   7  14  21  28  35  42  49  56  63  70  77  84  91  98 105 112 119\n",
      " 126]\n",
      "p= 7 (order):  [ 0  7 14  2  9 16  4 11 18  6 13  1  8 15  3 10 17  5 12]\n",
      "p= 7 (order):  [ 0  1  2  3  4  5  6  7  8  9 10 11 12 13 14 15 16 17 18]\n",
      "\n",
      "p= 13 :  [  0  13  26  39  52  65  78  91 104 117 130 143 156 169 182 195 208 221\n",
      " 234]\n",
      "p= 13 (order):  [ 0 13  7  1 14  8  2 15  9  3 16 10  4 17 11  5 18 12  6]\n",
      "p= 13 (order):  [ 0  1  2  3  4  5  6  7  8  9 10 11 12 13 14 15 16 17 18]\n",
      "\n",
      "p= 18 :  [  0  18  36  54  72  90 108 126 144 162 180 198 216 234 252 270 288 306\n",
      " 324]\n",
      "p= 18 (order):  [ 0 18 17 16 15 14 13 12 11 10  9  8  7  6  5  4  3  2  1]\n",
      "p= 18 (order):  [ 0  1  2  3  4  5  6  7  8  9 10 11 12 13 14 15 16 17 18]\n",
      "\n"
     ]
    }
   ],
   "source": [
    "order = 19\n",
    "F_19 = np.array([i for i in range(order)])\n",
    "\n",
    "for i in (1, 3, 7, 13, 18):\n",
    "  print(\"p=\", i, \": \", F_19*i)\n",
    "  print(\"p=\", i, \"(order): \", F_19*i%order)\n",
    "  print(\"p=\", i, \"(order): \", np.sort(F_19*i%order))\n",
    "  print()"
   ]
  },
  {
   "cell_type": "code",
   "execution_count": 39,
   "metadata": {},
   "outputs": [
    {
     "name": "stdout",
     "output_type": "stream",
     "text": [
      "p= 1 :  [ 0  1  2  3  4  5  6  7  8  9 10 11 12 13 14 15 16 17]\n",
      "p= 1 (order):  [ 0  1  2  3  4  5  6  7  8  9 10 11 12 13 14 15 16 17]\n",
      "p= 1 (order):  [ 0  1  2  3  4  5  6  7  8  9 10 11 12 13 14 15 16 17]\n",
      "\n",
      "p= 2 :  [ 0  2  4  6  8 10 12 14 16 18 20 22 24 26 28 30 32 34]\n",
      "p= 2 (order):  [ 0  2  4  6  8 10 12 14 16  0  2  4  6  8 10 12 14 16]\n",
      "p= 2 (order):  [ 0  0  2  2  4  4  6  6  8  8 10 10 12 12 14 14 16 16]\n",
      "\n",
      "p= 9 :  [  0   9  18  27  36  45  54  63  72  81  90  99 108 117 126 135 144 153]\n",
      "p= 9 (order):  [0 9 0 9 0 9 0 9 0 9 0 9 0 9 0 9 0 9]\n",
      "p= 9 (order):  [0 0 0 0 0 0 0 0 0 9 9 9 9 9 9 9 9 9]\n",
      "\n",
      "p= 13 :  [  0  13  26  39  52  65  78  91 104 117 130 143 156 169 182 195 208 221]\n",
      "p= 13 (order):  [ 0 13  8  3 16 11  6  1 14  9  4 17 12  7  2 15 10  5]\n",
      "p= 13 (order):  [ 0  1  2  3  4  5  6  7  8  9 10 11 12 13 14 15 16 17]\n",
      "\n"
     ]
    }
   ],
   "source": [
    "order = 18\n",
    "F_19 = np.array([i for i in range(order)])\n",
    "\n",
    "for i in (1, 2, 9, 13):\n",
    "  print(\"p=\", i, \": \", F_19*i)\n",
    "  print(\"p=\", i, \"(order): \", F_19*i%order)\n",
    "  print(\"p=\", i, \"(order): \", np.sort(F_19*i%order))\n",
    "  print()"
   ]
  },
  {
   "cell_type": "code",
   "execution_count": 41,
   "metadata": {},
   "outputs": [
    {
     "name": "stdout",
     "output_type": "stream",
     "text": [
      "p= 1 :  [0 1 2 3 4 5 6 7 8]\n",
      "p= 1 (order):  [0 1 2 3 4 5 6 7 8]\n",
      "p= 1 (order):  [0 1 2 3 4 5 6 7 8]\n",
      "\n",
      "p= 2 :  [ 0  2  4  6  8 10 12 14 16]\n",
      "p= 2 (order):  [0 2 4 6 8 1 3 5 7]\n",
      "p= 2 (order):  [0 1 2 3 4 5 6 7 8]\n",
      "\n",
      "p= 3 :  [ 0  3  6  9 12 15 18 21 24]\n",
      "p= 3 (order):  [0 3 6 0 3 6 0 3 6]\n",
      "p= 3 (order):  [0 0 0 3 3 3 6 6 6]\n",
      "\n",
      "p= 9 :  [ 0  9 18 27 36 45 54 63 72]\n",
      "p= 9 (order):  [0 0 0 0 0 0 0 0 0]\n",
      "p= 9 (order):  [0 0 0 0 0 0 0 0 0]\n",
      "\n",
      "p= 18 :  [  0  18  36  54  72  90 108 126 144]\n",
      "p= 18 (order):  [0 0 0 0 0 0 0 0 0]\n",
      "p= 18 (order):  [0 0 0 0 0 0 0 0 0]\n",
      "\n"
     ]
    }
   ],
   "source": [
    "order = 9\n",
    "F_19 = np.array([i for i in range(order)])\n",
    "\n",
    "for i in (1, 2, 3, 9, 18):\n",
    "  print(\"p=\", i, \": \", F_19*i)\n",
    "  print(\"p=\", i, \"(order): \", F_19*i%order)\n",
    "  print(\"p=\", i, \"(order): \", np.sort(F_19*i%order))\n",
    "  print()"
   ]
  },
  {
   "cell_type": "markdown",
   "metadata": {},
   "source": [
    "# 練習問題7\n",
    "\n",
    "p=7, 11, 17, 31の時の集合 $F_p$\n",
    "\n",
    "$F_p = \\{1^{p-1}, 2^{p-1}, 3^{p-1}, ..., (p-1)^{p-1}\\}$\n"
   ]
  },
  {
   "cell_type": "code",
   "execution_count": 19,
   "metadata": {},
   "outputs": [
    {
     "name": "stdout",
     "output_type": "stream",
     "text": [
      "i= 7 : [1, 1, 1, 1, 1]\n",
      "i= 11 : [1, 1, 1, 1, 1, 1, 1, 1, 1]\n",
      "i= 17 : [1, 1, 1, 1, 1, 1, 1, 1, 1, 1, 1, 1, 1, 1, 1]\n",
      "i= 31 : [1, 1, 1, 1, 1, 1, 1, 1, 1, 1, 1, 1, 1, 1, 1, 1, 1, 1, 1, 1, 1, 1, 1, 1, 1, 1, 1, 1, 1]\n"
     ]
    }
   ],
   "source": [
    "for i in (7, 11, 17, 31):\n",
    "  exponent = i-1\n",
    "  print(\"i=\", i, \":\", [pow(j, exponent)%i for j in range(1, exponent)])"
   ]
  },
  {
   "cell_type": "code",
   "execution_count": null,
   "metadata": {},
   "outputs": [],
   "source": []
  }
 ],
 "metadata": {
  "interpreter": {
   "hash": "ce4da746948d1e83a473e6100c600e8a2ecc13d7e6daa1554d2b615920a5b3a0"
  },
  "kernelspec": {
   "display_name": "Python 3.7.9 64-bit ('3.7.9')",
   "language": "python",
   "name": "python3"
  },
  "language_info": {
   "codemirror_mode": {
    "name": "ipython",
    "version": 3
   },
   "file_extension": ".py",
   "mimetype": "text/x-python",
   "name": "python",
   "nbconvert_exporter": "python",
   "pygments_lexer": "ipython3",
   "version": "3.7.9"
  },
  "orig_nbformat": 4
 },
 "nbformat": 4,
 "nbformat_minor": 2
}
