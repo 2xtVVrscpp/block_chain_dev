{
 "cells": [
  {
   "cell_type": "code",
   "execution_count": 16,
   "metadata": {},
   "outputs": [],
   "source": [
    "class modulo_arithmetic:\n",
    "  def __init__(self, num, order):\n",
    "    self.order = order\n",
    "    self.num = num % self.order\n",
    "\n",
    "  def __repr__(self):\n",
    "    return \"{} mod {}\".format(self.num, self.order)\n",
    "  \n",
    "  def __eq__(self, modulo):\n",
    "    if modulo is None:\n",
    "      return False\n",
    "    return self.num == modulo.num and self.order == modulo.order\n",
    "\n",
    "  def __add__(self, modulo):\n",
    "    if self.order == modulo.order:\n",
    "      num = (self.num + modulo.num) % self.order\n",
    "      return self.__class__(num, self.order)\n",
    "    else:\n",
    "      raise TypeError(\"different order\")\n",
    "\n",
    "  def __sub__(self, modulo):\n",
    "    if self.order == modulo.order:\n",
    "      num = (self.num - modulo.num) % self.order\n",
    "      return self.__class__(num, self.order)\n",
    "    else:\n",
    "      raise TypeError(\"different order\")\n",
    "  \n",
    "  def __mul__(self, modulo):\n",
    "    if self.order == modulo.order:\n",
    "      num = (self.num * modulo.num) % self.order\n",
    "      return self.__class__(num, self.order)\n",
    "    else:\n",
    "      raise TypeError(\"different order\")\n",
    "\n",
    "  def __truediv__(self, modulo):\n",
    "    if self.order == modulo.order:\n",
    "      num = (self.num / modulo.num) % self.order\n",
    "      return self.__class__(num, self.order)\n",
    "    else:\n",
    "      raise TypeError(\"different order\")"
   ]
  },
  {
   "cell_type": "code",
   "execution_count": 13,
   "metadata": {},
   "outputs": [
    {
     "name": "stdout",
     "output_type": "stream",
     "text": [
      "val1:  9 mod 19\n",
      "val2:  17 mod 19\n"
     ]
    }
   ],
   "source": [
    "val1 = modulo_arithmetic(11, 19)\n",
    "val2 = modulo_arithmetic(17, 19)\n",
    "val1 = val1 + val2\n",
    "\n",
    "print(\"val1: \", val1)\n",
    "print(\"val2: \", val2)"
   ]
  },
  {
   "cell_type": "code",
   "execution_count": 14,
   "metadata": {},
   "outputs": [
    {
     "name": "stdout",
     "output_type": "stream",
     "text": [
      "val1:  13 mod 19\n",
      "val2:  17 mod 19\n"
     ]
    }
   ],
   "source": [
    "val1 = modulo_arithmetic(11, 19)\n",
    "val2 = modulo_arithmetic(17, 19)\n",
    "val1 = val1 - val2\n",
    "\n",
    "print(\"val1: \", val1)\n",
    "print(\"val2: \", val2)"
   ]
  },
  {
   "cell_type": "code",
   "execution_count": 15,
   "metadata": {},
   "outputs": [
    {
     "name": "stdout",
     "output_type": "stream",
     "text": [
      "True\n",
      "False\n"
     ]
    }
   ],
   "source": [
    "print(val2==val2)\n",
    "print(val1==val2)"
   ]
  },
  {
   "cell_type": "code",
   "execution_count": 17,
   "metadata": {},
   "outputs": [
    {
     "name": "stdout",
     "output_type": "stream",
     "text": [
      "val1:  14 mod 19\n",
      "val2:  3 mod 19\n"
     ]
    }
   ],
   "source": [
    "val1 = modulo_arithmetic(11, 19)\n",
    "val2 = modulo_arithmetic(3, 19)\n",
    "val1 = val1 * val2\n",
    "\n",
    "print(\"val1: \", val1)\n",
    "print(\"val2: \", val2)"
   ]
  },
  {
   "cell_type": "code",
   "execution_count": 20,
   "metadata": {},
   "outputs": [
    {
     "name": "stdout",
     "output_type": "stream",
     "text": [
      "val1:  0.0 mod 19\n",
      "val2:  3 mod 19\n"
     ]
    }
   ],
   "source": [
    "val1 = modulo_arithmetic(57, 19)\n",
    "val2 = modulo_arithmetic(3, 19)\n",
    "val1 = val1 / val2\n",
    "\n",
    "print(\"val1: \", val1)\n",
    "print(\"val2: \", val2)"
   ]
  },
  {
   "cell_type": "code",
   "execution_count": null,
   "metadata": {},
   "outputs": [],
   "source": []
  }
 ],
 "metadata": {
  "interpreter": {
   "hash": "ce4da746948d1e83a473e6100c600e8a2ecc13d7e6daa1554d2b615920a5b3a0"
  },
  "kernelspec": {
   "display_name": "Python 3.7.9 64-bit ('3.7.9')",
   "language": "python",
   "name": "python3"
  },
  "language_info": {
   "codemirror_mode": {
    "name": "ipython",
    "version": 3
   },
   "file_extension": ".py",
   "mimetype": "text/x-python",
   "name": "python",
   "nbconvert_exporter": "python",
   "pygments_lexer": "ipython3",
   "version": "3.7.9"
  },
  "orig_nbformat": 4
 },
 "nbformat": 4,
 "nbformat_minor": 2
}
